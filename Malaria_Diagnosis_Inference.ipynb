{
  "cells": [
    {
      "cell_type": "markdown",
      "metadata": {
        "id": "view-in-github",
        "colab_type": "text"
      },
      "source": [
        "<a href=\"https://colab.research.google.com/github/chisomrutherford/malaria-diagnosis-with-cnn/blob/main/Malaria_Diagnosis_Inference.ipynb\" target=\"_parent\"><img src=\"https://colab.research.google.com/assets/colab-badge.svg\" alt=\"Open In Colab\"/></a>"
      ]
    },
    {
      "cell_type": "code",
      "execution_count": null,
      "metadata": {
        "id": "jjtsXk5cCZTd"
      },
      "outputs": [],
      "source": [
        "import tensorflow as tf\n",
        "model = tf.keras.models.load_model('/content/drive/MyDrive/malaria_model.keras')\n",
        "print ('Model loaded successfully.')"
      ]
    },
    {
      "cell_type": "code",
      "execution_count": null,
      "metadata": {
        "id": "gBaYyIMDDV5p"
      },
      "outputs": [],
      "source": [
        "#Load dependencies\n",
        "\n",
        "import numpy as np\n",
        "import cv2\n",
        "from google.colab.patches import cv2_imshow\n",
        "import matplotlib.pyplot as plt"
      ]
    },
    {
      "cell_type": "markdown",
      "metadata": {
        "id": "1OiH69OfDbuc"
      },
      "source": [
        "# Create Function for Prediction"
      ]
    },
    {
      "cell_type": "code",
      "execution_count": null,
      "metadata": {
        "id": "-E_L0p9GDgHb"
      },
      "outputs": [],
      "source": [
        "# STEP 1: Mount Google Drive (for model storage)\n",
        "from google.colab import drive\n",
        "drive.mount('/content/drive')\n",
        "\n",
        "# STEP 2: Load pre-trained model (run once per session)\n",
        "import tensorflow as tf\n",
        "model = tf.keras.models.load_model('/content/drive/MyDrive/malaria_model.keras')  # Update your path\n",
        "\n",
        "# STEP 3: Create prediction function\n",
        "import numpy as np\n",
        "import cv2\n",
        "from google.colab.patches import cv2_imshow\n",
        "import matplotlib.pyplot as plt\n",
        "\n",
        "def predict_malaria(image_path):\n",
        "    # Preprocess image\n",
        "    img = cv2.imread(image_path)\n",
        "    img = cv2.cvtColor(img, cv2.COLOR_BGR2RGB)\n",
        "    resized = cv2.resize(img, (128, 128))  # Match training size\n",
        "    normalized = resized / 255.0\n",
        "    batch = np.expand_dims(normalized, axis=0)\n",
        "\n",
        "    # Make prediction\n",
        "    prediction = model.predict(batch)\n",
        "    confidence = float(prediction[0][0])\n",
        "\n",
        "    # Display results\n",
        "    plt.figure(figsize=(8,4))\n",
        "\n",
        "    plt.subplot(1,2,1)\n",
        "    plt.imshow(img)\n",
        "    plt.title(\"Original Image\")\n",
        "    plt.axis('off')\n",
        "\n",
        "    plt.subplot(1,2,2)\n",
        "    plt.imshow(resized)\n",
        "    plt.title(f\"Diagnosis: {'This cell is uninfected' if confidence > 0.5 else 'This cell is parasitized'}\\nConfidence: {abs(confidence-0.5)*200:.1f}%\")\n",
        "    plt.axis('off')\n",
        "\n",
        "    plt.show()\n"
      ]
    },
    {
      "cell_type": "markdown",
      "metadata": {
        "id": "_w1MHLGdEjaN"
      },
      "source": [
        "# Diagnosis: Inference Section\n",
        "This model was trained to recognize blood smears under the microscope. The model was trained on a total of 27,558 images from Kaggle as provided by the US National Institute of Health (NIH).\n",
        "\n",
        "The model classifies the images into parasitised cells and unparasitised cells."
      ]
    },
    {
      "cell_type": "code",
      "execution_count": null,
      "metadata": {
        "id": "Qe_nIRO0D7zQ"
      },
      "outputs": [],
      "source": [
        "from google.colab import files\n",
        "\n",
        "uploaded = files.upload()\n",
        "for filename in uploaded.keys():\n",
        "    predict_malaria(filename)"
      ]
    }
  ],
  "metadata": {
    "colab": {
      "collapsed_sections": [
        "1OiH69OfDbuc"
      ],
      "provenance": [],
      "include_colab_link": true
    },
    "kernelspec": {
      "display_name": "Python 3",
      "name": "python3"
    },
    "language_info": {
      "name": "python"
    }
  },
  "nbformat": 4,
  "nbformat_minor": 0
}