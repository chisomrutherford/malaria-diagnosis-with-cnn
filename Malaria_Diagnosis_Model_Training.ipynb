{
  "nbformat": 4,
  "nbformat_minor": 0,
  "metadata": {
    "colab": {
      "provenance": [],
      "gpuType": "T4",
      "authorship_tag": "ABX9TyOrhrySOSfXGImHM2LO6PA6",
      "include_colab_link": true
    },
    "kernelspec": {
      "name": "python3",
      "display_name": "Python 3"
    },
    "language_info": {
      "name": "python"
    },
    "accelerator": "GPU"
  },
  "cells": [
    {
      "cell_type": "markdown",
      "metadata": {
        "id": "view-in-github",
        "colab_type": "text"
      },
      "source": [
        "<a href=\"https://colab.research.google.com/github/chisomrutherford/malaria-diagnosis-with-cnn/blob/main/Malaria_Diagnosis_Model_Training.ipynb\" target=\"_parent\"><img src=\"https://colab.research.google.com/assets/colab-badge.svg\" alt=\"Open In Colab\"/></a>"
      ]
    },
    {
      "cell_type": "markdown",
      "source": [
        "# Diagnosis of Malaria by Analyzing Blood Smears Captured by a Microscope Using Convolutional Neural Network"
      ],
      "metadata": {
        "id": "XR0PwH3IiFz8"
      }
    },
    {
      "cell_type": "markdown",
      "source": [
        "# Exploratory Data Analysis\n",
        "This section loads the data and shows examples of the images in the dataset"
      ],
      "metadata": {
        "id": "LnpcGhCgmkj7"
      }
    },
    {
      "cell_type": "code",
      "source": [
        "#Import dependencies\n",
        "import os\n",
        "import cv2\n",
        "import random\n",
        "import matplotlib.pyplot as plt\n",
        "\n",
        "#Load the data\n",
        "data_dir = 'malaria_dataset/cell_images/cell_images'\n",
        "categories = ['Parasitized', 'Uninfected']\n",
        "\n",
        "#This function displays the images in the dataset\n",
        "def show_random_images (data_dir, categories, n= 3):\n",
        "  plt.figure (figsize = (12, 6))\n",
        "  for i, cat in enumerate (categories):\n",
        "    path = os.path.join (data_dir, cat)\n",
        "    images = os.listdir (path)\n",
        "\n",
        "    for j in range(n):\n",
        "      img_path = os.path.join(path, random.choice(images))\n",
        "      img = cv2.imread(img_path)\n",
        "      img = cv2.cvtColor(img, cv2.COLOR_BGR2RGB)\n",
        "      plt.subplot(len(categories), n, i*n+j+1)\n",
        "      plt.imshow(img)\n",
        "      plt.title(cat)\n",
        "      plt.axis('off')\n",
        "  plt.tight_layout()\n",
        "  plt.show()\n",
        "\n",
        "show_random_images(data_dir, categories)\n"
      ],
      "metadata": {
        "id": "W4rFUbaBiEkm"
      },
      "execution_count": null,
      "outputs": []
    },
    {
      "cell_type": "markdown",
      "source": [
        "# Data Preprocessing"
      ],
      "metadata": {
        "id": "KhxS4paInHq7"
      }
    },
    {
      "cell_type": "code",
      "source": [
        "#Import necessary dependencies and also perform data augmentation.\n",
        "\n",
        "import tensorflow as tf\n",
        "from tensorflow.keras.preprocessing.image import ImageDataGenerator\n",
        "img_size = 128\n",
        "\n",
        "train_datagen = ImageDataGenerator(\n",
        "    rescale = 1./255,\n",
        "    rotation_range = 20,\n",
        "    zoom_range = 0.15,\n",
        "    width_shift_range = 0.2,\n",
        "    height_shift_range = 0.2,\n",
        "    horizontal_flip = True,\n",
        "    validation_split = 0.2\n",
        "\n",
        ")\n",
        "print ('Data augmentation complete. 20% of the dataset for validation.')"
      ],
      "metadata": {
        "id": "bwOyCgQ_j6IR"
      },
      "execution_count": null,
      "outputs": []
    },
    {
      "cell_type": "code",
      "source": [
        "#Create a data generator for the validation set\n",
        "\n",
        "train_generator= train_datagen.flow_from_directory (\n",
        "    data_dir,\n",
        "    target_size = (img_size, img_size),\n",
        "    batch_size =32,\n",
        "    class_mode = 'binary',\n",
        "    subset = 'training',\n",
        "    shuffle = True\n",
        ")\n",
        "\n",
        "validation_generator = train_datagen.flow_from_directory(\n",
        "    data_dir,\n",
        "    target_size=(img_size, img_size),\n",
        "    batch_size=32,\n",
        "    class_mode='binary',\n",
        "    subset='validation',\n",
        "    shuffle=False\n",
        ")"
      ],
      "metadata": {
        "id": "rGzADIGUpDh3"
      },
      "execution_count": null,
      "outputs": []
    },
    {
      "cell_type": "markdown",
      "source": [
        "# Model Development"
      ],
      "metadata": {
        "id": "jChTmzYE5V9D"
      }
    },
    {
      "cell_type": "code",
      "source": [
        "from tensorflow.keras.regularizers import l2\n",
        "from tensorflow.keras.models import Sequential\n",
        "from tensorflow.keras.layers import Conv2D, MaxPooling2D, Flatten, Dense, Dropout, BatchNormalization\n",
        "\n",
        "model = Sequential([\n",
        "    Conv2D(32, (3,3), activation='relu', input_shape=(img_size, img_size, 3)),\n",
        "    BatchNormalization(),\n",
        "    MaxPooling2D(2,2),\n",
        "\n",
        "    Conv2D(64, (3,3), activation='relu', kernel_regularizer=l2(0.01)),\n",
        "    BatchNormalization(),\n",
        "    MaxPooling2D(2,2),\n",
        "\n",
        "    Conv2D(128, (3,3), activation='relu', kernel_regularizer=l2(0.01)),\n",
        "    BatchNormalization(),\n",
        "    MaxPooling2D(2,2),\n",
        "\n",
        "    Conv2D(256, (3,3), activation='relu'),\n",
        "    BatchNormalization(),\n",
        "    MaxPooling2D(2,2),\n",
        "\n",
        "    Flatten(),\n",
        "    Dense(512, activation='relu', kernel_regularizer=l2(0.01)),\n",
        "    Dropout(0.5),\n",
        "    Dense(1, activation='sigmoid')\n",
        "])\n",
        "\n",
        "model.compile(optimizer=tf.keras.optimizers.Adam(learning_rate=1e-4),\n",
        "              loss='binary_crossentropy',\n",
        "              metrics=['accuracy',\n",
        "                       tf.keras.metrics.Precision(),\n",
        "                       tf.keras.metrics.Recall()])"
      ],
      "metadata": {
        "id": "HqxpQG1Hrv5d"
      },
      "execution_count": null,
      "outputs": []
    },
    {
      "cell_type": "code",
      "source": [
        "callbacks = [\n",
        "    tf.keras.callbacks.EarlyStopping(patience=5, restore_best_weights=True),\n",
        "    tf.keras.callbacks.ReduceLROnPlateau(factor=0.1, patience=3)\n",
        "]\n",
        "\n",
        "history = model.fit(\n",
        "    train_generator,\n",
        "    epochs=30,\n",
        "    validation_data=validation_generator,\n",
        "    callbacks=callbacks\n",
        ")\n",
        "\n",
        "print ('Congratulation! Training is complete')"
      ],
      "metadata": {
        "id": "xwCt2kiu9Xfz"
      },
      "execution_count": null,
      "outputs": []
    },
    {
      "cell_type": "markdown",
      "source": [
        "# Model Evaluation"
      ],
      "metadata": {
        "id": "XeXKdADXTWKo"
      }
    },
    {
      "cell_type": "code",
      "source": [
        "import seaborn as sns\n",
        "from sklearn.metrics import confusion_matrix\n",
        "import matplotlib.pyplot as plt\n",
        "\n",
        "val_loss, val_acc, val_precision, val_recall = model.evaluate(validation_generator)\n",
        "print(f\"\\nTrue Validation Accuracy: {val_acc:.2%}\")\n",
        "print(f\"Precision: {val_precision:.2%}\")\n",
        "print(f\"Recall: {val_recall:.2%}\")\n",
        "\n",
        "# Proper confusion matrix generation\n",
        "y_pred = model.predict(validation_generator)\n",
        "y_pred_binary = (y_pred > 0.5).astype(int)\n",
        "\n",
        "cm = confusion_matrix(validation_generator.classes, y_pred_binary)\n",
        "plt.figure(figsize=(8,6))\n",
        "sns.heatmap(cm, annot=True, fmt='d', cmap='Blues',\n",
        "            xticklabels=categories,\n",
        "            yticklabels=categories)\n",
        "plt.xlabel('Predicted')\n",
        "plt.ylabel('True')\n",
        "plt.show()"
      ],
      "metadata": {
        "id": "0wxVKh9JTTY6"
      },
      "execution_count": null,
      "outputs": []
    }
  ]
}